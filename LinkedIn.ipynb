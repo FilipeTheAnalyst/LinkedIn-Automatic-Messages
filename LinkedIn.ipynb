{
 "cells": [
  {
   "cell_type": "code",
   "execution_count": 2,
   "metadata": {},
   "outputs": [],
   "source": [
    "from selenium import webdriver\n",
    "from selenium.webdriver.common.keys import Keys\n",
    "from selenium.webdriver.common.by import By\n",
    "from selenium.webdriver.support.ui import WebDriverWait\n",
    "from selenium.webdriver.support import expected_conditions as EC\n",
    "import time\n",
    "import keyring"
   ]
  },
  {
   "cell_type": "code",
   "execution_count": null,
   "metadata": {},
   "outputs": [],
   "source": [
    "url = \"https://linkedin.com\"\n",
    "wd = webdriver.Chrome(\"./chromedriver.exe\")\n",
    "wd.get(url)\n",
    "\n",
    "# input credentials using windows credential manager\n",
    "x = keyring.get_credential(service_name=\"linkedin\", username=None)\n",
    "linkedin_username = x.username\n",
    "linkedin_password = x.password\n",
    "\n",
    "time.sleep(2)\n",
    "\n",
    "username = wd.find_element_by_xpath(\"//input[@name='session_key']\")\n",
    "password = wd.find_element_by_xpath(\"//input[@name='session_password']\")\n",
    "\n",
    "username.send_keys(linkedin_username)\n",
    "password.send_keys(linkedin_password)\n",
    "\n",
    "time.sleep(2)\n",
    "\n",
    "submit = wd.find_element_by_xpath(\"//button[@type='submit']\").click()\n",
    "\n",
    "time.sleep(2)\n",
    "\n",
    "# get url page searching for People that worked in a specific company. I'm using Farfetch in this case\n",
    "url_search = f\"https://www.linkedin.com/search/results/people/?keywords=farfetch&origin=FACETED_SEARCH&pastCompany=%5B%22769706%22%5D&sid=a!K\"\n",
    "wd.get(url_search)\n",
    "\n",
    "time.sleep(2)\n",
    "\n",
    "# get name of Past company to use in message\n",
    "job_title = wd.find_elements_by_xpath(\"\"\"//p[@class='entity-result__summary\n",
    "            entity-result__summary--2-lines\n",
    "            t-12 t-black--light\n",
    "            mb1']\"\"\")\n",
    "\n",
    "all_buttons = wd.find_elements_by_tag_name(\"button\")\n",
    "\n",
    "# get buttons to Connect with people\n",
    "connnect_buttons = [btn for btn in all_buttons if btn.text == \"Connect\"]\n",
    "\n",
    "for connect in connnect_buttons:\n",
    "    connect.click()\n",
    "    name = wd.find_element_by_xpath(\"//strong\").text.strip()\n",
    "    \n",
    "    time.sleep(2)\n",
    "    #add a note to the connection invite\n",
    "    wd.find_element_by_xpath(\"//button[@aria-label='Add a note']\").click()\n",
    "\n",
    "    # find the text message form\n",
    "    message = wd.find_element_by_xpath(\"//textarea[@id='custom-message']\")\n",
    "\n",
    "    # write the message to add the invitation\n",
    "    message.send_keys(\"Hi \"+name+\", I hope you're having a great week! I came across your profile while I was looking for people who worked at \"+job_title[0].text.strip().split(\"at \")[1]+\" and your experience really stood out! I'd love to learn more about \"+job_title[0].text.strip().split(\"at \")[1]+\" and what made you do the transition to your new job! Thank you!\")\n",
    "\n",
    "    time.sleep(2)\n",
    "\n",
    "    submit_message = wd.find_element_by_xpath(\"//button[@aria-label='Send now']\").click()\n",
    "\n",
    "wd.quit()"
   ]
  }
 ],
 "metadata": {
  "interpreter": {
   "hash": "13c518583800e3594576232c2a34d2d69d411307dc7d1036e1786eb638e214b4"
  },
  "kernelspec": {
   "display_name": "Python 3.10.2 ('minimal_ds')",
   "language": "python",
   "name": "python3"
  },
  "language_info": {
   "codemirror_mode": {
    "name": "ipython",
    "version": 3
   },
   "file_extension": ".py",
   "mimetype": "text/x-python",
   "name": "python",
   "nbconvert_exporter": "python",
   "pygments_lexer": "ipython3",
   "version": "3.10.2"
  },
  "orig_nbformat": 4
 },
 "nbformat": 4,
 "nbformat_minor": 2
}
